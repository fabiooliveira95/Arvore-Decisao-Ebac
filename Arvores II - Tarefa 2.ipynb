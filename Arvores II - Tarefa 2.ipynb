{
 "cells": [
  {
   "cell_type": "markdown",
   "metadata": {},
   "source": [
    "# Árvores II - Tarefa 2"
   ]
  },
  {
   "cell_type": "code",
   "metadata": {
    "ExecuteTime": {
     "end_time": "2025-01-22T20:09:21.210297Z",
     "start_time": "2025-01-22T20:09:20.998311Z"
    }
   },
   "source": [
    "import pandas as pd\n",
    "import seaborn as sns\n",
    "import matplotlib.pyplot as plt\n",
    "import numpy as np\n",
    "from altair import topo_feature\n",
    "from sklearn.tree import DecisionTreeClassifier\n",
    "from sklearn.model_selection import train_test_split\n",
    "from sklearn.metrics import confusion_matrix, ConfusionMatrixDisplay"
   ],
   "outputs": [],
   "execution_count": 39
  },
  {
   "cell_type": "code",
   "metadata": {
    "ExecuteTime": {
     "end_time": "2025-01-22T20:09:23.022449Z",
     "start_time": "2025-01-22T20:09:23.017936Z"
    }
   },
   "source": [
    "# Caminho para feture.txt\n",
    "features_path  = \"~/Desktop/UCI HAR Dataset/features.txt\"\n",
    "\n",
    "# Carregar os nomes das fetures\n",
    "features = pd.read_csv(features_path, sep=\"\\s+\", header=None, usecols=[1], names=[\"feature_name\"])\n",
    "feature_names = features[\"feature_name\"]"
   ],
   "outputs": [
    {
     "name": "stderr",
     "output_type": "stream",
     "text": [
      "<>:5: SyntaxWarning: invalid escape sequence '\\s'\n",
      "<>:5: SyntaxWarning: invalid escape sequence '\\s'\n",
      "/tmp/ipykernel_24717/2074543054.py:5: SyntaxWarning: invalid escape sequence '\\s'\n",
      "  features = pd.read_csv(features_path, sep=\"\\s+\", header=None, usecols=[1], names=[\"feature_name\"])\n"
     ]
    }
   ],
   "execution_count": 40
  },
  {
   "metadata": {
    "ExecuteTime": {
     "end_time": "2025-01-22T20:09:24.823436Z",
     "start_time": "2025-01-22T20:09:24.819983Z"
    }
   },
   "cell_type": "code",
   "source": [
    "# Caminho para subject_train.txt\n",
    "subject_train_path = \"~/Desktop/UCI HAR Dataset/train/subject_train.txt\"\n",
    "\n",
    "# Carregar os dados de indivíduos\n",
    "subject_train = pd.read_csv(subject_train_path, sep=\"\\s+\", header=None, names=['subject'])"
   ],
   "outputs": [
    {
     "name": "stderr",
     "output_type": "stream",
     "text": [
      "<>:5: SyntaxWarning: invalid escape sequence '\\s'\n",
      "<>:5: SyntaxWarning: invalid escape sequence '\\s'\n",
      "/tmp/ipykernel_24717/2498940378.py:5: SyntaxWarning: invalid escape sequence '\\s'\n",
      "  subject_train = pd.read_csv(subject_train_path, sep=\"\\s+\", header=None, names=['subject'])\n"
     ]
    }
   ],
   "execution_count": 41
  },
  {
   "metadata": {
    "ExecuteTime": {
     "end_time": "2025-01-22T20:09:27.086355Z",
     "start_time": "2025-01-22T20:09:26.600316Z"
    }
   },
   "cell_type": "code",
   "source": [
    "# Caminho para X_train.txt\n",
    "X_train_path = \"~/Desktop/UCI HAR Dataset/train/X_train.txt\"\n",
    "\n",
    "# Carregar os dados da base X_train\n",
    "X_train = pd.read_csv(X_train_path, delim_whitespace=True, header=None)\n",
    "\n",
    "# Renomeiar as colunas de X_train\n",
    "X_train.columns = feature_names\n",
    "\n",
    "# Adicionar coluna 'subject' ao DataFrame\n",
    "X_train['subject'] = subject_train['subject']\n",
    "\n",
    "# Criar um índice duplo com a ordem dos dados e o identificador do indivíduo\n",
    "X_train.index = pd.MultiIndex.from_arrays([X_train.index, X_train['subject']], names=[\"order\", \"subject\"])"
   ],
   "outputs": [
    {
     "name": "stderr",
     "output_type": "stream",
     "text": [
      "/tmp/ipykernel_24717/1510964614.py:5: FutureWarning: The 'delim_whitespace' keyword in pd.read_csv is deprecated and will be removed in a future version. Use ``sep='\\s+'`` instead\n",
      "  X_train = pd.read_csv(X_train_path, delim_whitespace=True, header=None)\n"
     ]
    }
   ],
   "execution_count": 42
  },
  {
   "metadata": {
    "ExecuteTime": {
     "end_time": "2025-01-22T20:09:28.592632Z",
     "start_time": "2025-01-22T20:09:28.407095Z"
    }
   },
   "cell_type": "code",
   "source": [
    "# Caminho para subject_text.txt\n",
    "subject_test_path = \"~/Desktop/UCI HAR Dataset/test/subject_test.txt\"\n",
    "\n",
    "# Caminho para X_test.txt\n",
    "X_test_path = \"~/Desktop/UCI HAR Dataset/test/X_test.txt\"\n",
    "\n",
    "# Carregar subject_test\n",
    "subject_test = pd.read_csv(subject_test_path, sep=\"\\s+\", header=None, names=['subject'])\n",
    "\n",
    "# Carregar X_test\n",
    "X_test = pd.read_csv(X_test_path, delim_whitespace=True, header=None)\n",
    "\n",
    "# Renomear as colunas de X_test\n",
    "X_test.columns = feature_names\n",
    "\n",
    "# Adicionar coluna 'subject'\n",
    "X_test['subject'] = subject_test['subject']\n",
    "\n",
    "# Criar um indice duplo\n",
    "X_test.index = pd.MultiIndex.from_arrays([X_test.index, X_test['subject']], names=[\"order\", \"subject\"])"
   ],
   "outputs": [
    {
     "name": "stderr",
     "output_type": "stream",
     "text": [
      "<>:8: SyntaxWarning: invalid escape sequence '\\s'\n",
      "<>:8: SyntaxWarning: invalid escape sequence '\\s'\n",
      "/tmp/ipykernel_24717/3633044864.py:8: SyntaxWarning: invalid escape sequence '\\s'\n",
      "  subject_test = pd.read_csv(subject_test_path, sep=\"\\s+\", header=None, names=['subject'])\n",
      "/tmp/ipykernel_24717/3633044864.py:11: FutureWarning: The 'delim_whitespace' keyword in pd.read_csv is deprecated and will be removed in a future version. Use ``sep='\\s+'`` instead\n",
      "  X_test = pd.read_csv(X_test_path, delim_whitespace=True, header=None)\n"
     ]
    }
   ],
   "execution_count": 43
  },
  {
   "metadata": {
    "ExecuteTime": {
     "end_time": "2025-01-22T20:09:32.157375Z",
     "start_time": "2025-01-22T20:09:32.154738Z"
    }
   },
   "cell_type": "code",
   "source": [
    "# Seleção das variáveis de interesse\n",
    "selected_features = ['tBodyAcc-mean()-X', 'tBodyAcc-mean()-Y', 'tBodyAcc-mean()-Z']\n",
    "X_train_selected = X_train[selected_features]\n",
    "X_test_selected = X_test[selected_features]"
   ],
   "outputs": [],
   "execution_count": 44
  },
  {
   "metadata": {
    "ExecuteTime": {
     "end_time": "2025-01-22T20:09:33.909876Z",
     "start_time": "2025-01-22T20:09:33.886441Z"
    }
   },
   "cell_type": "code",
   "source": [
    "X_train_selected.to_csv(\"~/Desktop/UCI HAR Dataset/train/X_train_selected.csv\")\n",
    "X_test_selected.to_csv(\"~/Desktop/UCI HAR Dataset/test/X_test_selected.csv\")\n",
    "subject_train.to_csv(\"~/Desktop/UCI HAR Dataset/train/subject_train.csv\")\n",
    "subject_test.to_csv(\"~/Desktop/UCI HAR Dataset/test/subject_test.csv\")"
   ],
   "outputs": [],
   "execution_count": 46
  },
  {
   "metadata": {},
   "cell_type": "code",
   "outputs": [],
   "execution_count": null,
   "source": ""
  },
  {
   "cell_type": "markdown",
   "metadata": {},
   "source": [
    "### 2. Divisão da base em Treino, Validação e Teste\n",
    "\n",
    "A base já se encontra dividida em Treino e Validação. O que vamos fazer então é extrair uma base de Validação da base de Treino.\n",
    "\n",
    "Extraia 25% da base de treino como base de validação."
   ]
  },
  {
   "metadata": {
    "ExecuteTime": {
     "end_time": "2025-01-22T20:09:35.606321Z",
     "start_time": "2025-01-22T20:09:35.601217Z"
    }
   },
   "cell_type": "code",
   "source": [
    "X, y = np.arange(100).reshape(50, 2), np.random.choice([0, 1], size=50)\n",
    "\n",
    "#Split data into training and testing sets\n",
    "X_train, X_test, y_train, y_test = train_test_split(X, y, test_size=0.25, random_state=42)\n",
    "\n",
    "#Train a DecisionTreeClassifier\n",
    "clf = DecisionTreeClassifier(random_state=42)\n",
    "clf.fit(X_train, y_train)\n",
    "\n",
    "#Predict the test set\n",
    "y_pred = clf.predict(X_test)"
   ],
   "outputs": [],
   "execution_count": 47
  },
  {
   "cell_type": "code",
   "execution_count": null,
   "metadata": {},
   "outputs": [],
   "source": []
  },
  {
   "metadata": {},
   "cell_type": "markdown",
   "source": [
    "### 3. Melhores 3 variáveis\n",
    "\n",
    "Rode uma árvore com profundidade máxima igual a 4 para prever a atividade humana com todas as variáveis.\n",
    "Observe a importância das variáveis e considere as 3 variáveis com maior importância para os próximos passos.\n",
    "Dica: utilize o atributo ```clf.feature_importances_``` da árvore treinada."
   ]
  },
  {
   "metadata": {
    "ExecuteTime": {
     "end_time": "2025-01-22T20:09:37.845023Z",
     "start_time": "2025-01-22T20:09:37.814828Z"
    }
   },
   "cell_type": "code",
   "source": [
    "from sklearn.tree import DecisionTreeClassifier\n",
    "from sklearn.metrics import accuracy_score\n",
    "\n",
    "# Caminho para y_train e y_test\n",
    "y_train_path = \"~/Desktop/UCI HAR Dataset/train/y_train.txt\"\n",
    "y_test_path = \"~/Desktop/UCI HAR Dataset/test/y_test.txt\"\n",
    "\n",
    "# Carregar os labels\n",
    "y_train = pd.read_csv(y_train_path, sep=\"\\s+\", header=None, names=['activity'])\n",
    "y_test = pd.read_csv(y_test_path, sep=\"\\s+\", header=None, names=['activity'])\n",
    "\n",
    "# Instanciar e treinar o modelo\n",
    "clf = DecisionTreeClassifier(min_samples_leaf=20)\n",
    "clf.fit(X_train_selected, y_train)\n",
    "\n",
    "# Avaliar o modelo\n",
    "train_accuracy = accuracy_score(y_train, clf.predict(X_train_selected))\n",
    "test_accuracy = accuracy_score(y_test, clf.predict(X_test_selected))\n",
    "\n",
    "print(\"Acuracia - treino:\", train_accuracy)\n"
   ],
   "outputs": [
    {
     "name": "stdout",
     "output_type": "stream",
     "text": [
      "Acuracia - treino: 0.5640642002176278\n"
     ]
    },
    {
     "name": "stderr",
     "output_type": "stream",
     "text": [
      "<>:9: SyntaxWarning: invalid escape sequence '\\s'\n",
      "<>:10: SyntaxWarning: invalid escape sequence '\\s'\n",
      "<>:9: SyntaxWarning: invalid escape sequence '\\s'\n",
      "<>:10: SyntaxWarning: invalid escape sequence '\\s'\n",
      "/tmp/ipykernel_24717/2431008677.py:9: SyntaxWarning: invalid escape sequence '\\s'\n",
      "  y_train = pd.read_csv(y_train_path, sep=\"\\s+\", header=None, names=['activity'])\n",
      "/tmp/ipykernel_24717/2431008677.py:10: SyntaxWarning: invalid escape sequence '\\s'\n",
      "  y_test = pd.read_csv(y_test_path, sep=\"\\s+\", header=None, names=['activity'])\n"
     ]
    }
   ],
   "execution_count": 48
  },
  {
   "metadata": {},
   "cell_type": "code",
   "outputs": [],
   "execution_count": null,
   "source": ""
  },
  {
   "metadata": {},
   "cell_type": "code",
   "outputs": [],
   "execution_count": null,
   "source": ""
  },
  {
   "metadata": {},
   "cell_type": "code",
   "outputs": [],
   "execution_count": null,
   "source": ""
  },
  {
   "cell_type": "code",
   "execution_count": null,
   "metadata": {},
   "outputs": [],
   "source": []
  },
  {
   "cell_type": "markdown",
   "metadata": {},
   "source": [
    "### 4. Construa uma árvore com as 3 melhores variáveis\n",
    "\n",
    "Utilizando as três variáveis encontradas acima, construa uma árvore de decisão. Encontre o melhor ```ccp_alpha``` utilizando a base de validação, conforme a estrutura que vimos em aula."
   ]
  },
  {
   "cell_type": "code",
   "metadata": {
    "ExecuteTime": {
     "end_time": "2025-01-22T20:09:41.593389Z",
     "start_time": "2025-01-22T20:09:41.577947Z"
    }
   },
   "source": [
    "%%time\n",
    "# Assumindo que X e y já estão carregados e alinhados corretamente\n",
    "# Dividir o conjunto de dados em conjuntos de treinamento, validação e teste\n",
    "X_train, X_temp, y_train, y_temp = train_test_split(X, y, test_size=0.3, random_state=42)\n",
    "X_val, X_test, y_val, y_test = train_test_split(X_temp, y_temp, test_size=0.5, random_state=42)\n",
    "\n",
    "# Etapa 1: Treine uma árvore de decisão inicial para encontrar a importância dos recursos\n",
    "initial_clf = DecisionTreeClassifier(max_depth=4, random_state=42)\n",
    "initial_clf.fit(X_train, y_train)\n",
    "\n",
    "# Extraia a importância dos recursos e selecione os 3 recursos mais importantes\n",
    "importances = initial_clf.feature_importances_\n",
    "indices = np.argsort(importances)[::-1]  # Índices de recursos classificados por importância (ordem decrescente)\n",
    "top_3_indices = indices[:3]  # Os 3 principais índices de recursos\n",
    "\n",
    "# Reduzir X apenas para os 3 principais recursos\n",
    "X_train_reduced = X_train[:, top_3_indices]\n",
    "X_val_reduced = X_val[:, top_3_indices]\n",
    "X_test_reduced = X_test[:, top_3_indices]\n",
    "\n",
    "# Etapa 2: Execute a poda de complexidade de custo no conjunto de dados reduzido\n",
    "clf = DecisionTreeClassifier(random_state=42)\n",
    "\n",
    "# Treinar usando poda de complexidade de custo (encontrar alfas efetivos)\n",
    "path = clf.cost_complexity_pruning_path(X_train_reduced, y_train)\n",
    "ccp_alphas = path.ccp_alphas  # Diferentes valores de ccp_alpha para tentar\n",
    "\n",
    "# Armazena resultados de precisão para diferentes valores `ccp_alpha`\n",
    "alpha_results = []\n",
    "\n",
    "for alpha in ccp_alphas:\n",
    "    clf = DecisionTreeClassifier(random_state=42, ccp_alpha=alpha)\n",
    "    clf.fit(X_train_reduced, y_train)\n",
    "    y_val_pred = clf.predict(X_val_reduced)\n",
    "    val_accuracy = accuracy_score(y_val, y_val_pred)\n",
    "    alpha_results.append((alpha, val_accuracy))\n",
    "\n",
    "# Encontre o melhor `ccp_alpha` com base na precisão do conjunto de validação\n",
    "best_alpha, best_accuracy = max(alpha_results, key=lambda x: x[1])\n",
    "print(f\"Best ccp_alpha: {best_alpha}, Validation Accuracy: {best_accuracy}\")\n",
    "\n",
    "# Etapa 3: Retreine a árvore com o melhor ccp_alpha e avalie no conjunto de teste\n",
    "final_clf = DecisionTreeClassifier(random_state=42, ccp_alpha=best_alpha)\n",
    "final_clf.fit(X_train_reduced, y_train)\n",
    "\n",
    "# Avaliar modelo final\n",
    "y_test_pred = final_clf.predict(X_test_reduced)\n",
    "test_accuracy = accuracy_score(y_test, y_test_pred)\n",
    "print(f\"Test Accuracy: {test_accuracy}\")\n"
   ],
   "outputs": [
    {
     "name": "stdout",
     "output_type": "stream",
     "text": [
      "Best ccp_alpha: 0.017857142857142856, Validation Accuracy: 0.7142857142857143\n",
      "Test Accuracy: 0.375\n",
      "CPU times: user 10.9 ms, sys: 936 μs, total: 11.9 ms\n",
      "Wall time: 12 ms\n"
     ]
    }
   ],
   "execution_count": 49
  },
  {
   "metadata": {},
   "cell_type": "code",
   "outputs": [],
   "execution_count": null,
   "source": ""
  },
  {
   "cell_type": "markdown",
   "metadata": {},
   "source": [
    "### 5. Avaliação do modelo\n",
    "\n",
    "Avalie a árvore encontrada no item anterior na base de testes."
   ]
  },
  {
   "cell_type": "code",
   "metadata": {
    "ExecuteTime": {
     "end_time": "2025-01-22T22:26:24.730705Z",
     "start_time": "2025-01-22T22:26:24.714849Z"
    }
   },
   "source": [
    "from sklearn.metrics import accuracy_score, precision_score, recall_score, f1_score, confusion_matrix\n",
    "\n",
    "# Evaluate the final model on the test set\n",
    "y_test_pred = final_clf.predict(X_test_reduced)\n",
    "\n",
    "# Compute evaluation metrics\n",
    "test_accuracy = accuracy_score(y_test, y_test_pred)\n",
    "test_precision = precision_score(y_test, y_test_pred, average='weighted')\n",
    "test_recall = recall_score(y_test, y_test_pred, average='weighted')\n",
    "test_f1 = f1_score(y_test, y_test_pred, average='weighted')\n",
    "test_confusion_matrix = confusion_matrix(y_test, y_test_pred)\n",
    "\n",
    "# Display the results\n",
    "print(f\"Test Accuracy: {test_accuracy:.4f}\")\n",
    "print(f\"Test Precision: {test_precision:.4f}\")\n",
    "print(f\"Test Recall: {test_recall:.4f}\")\n",
    "print(f\"Test F1 Score: {test_f1:.4f}\")\n",
    "print(\"Confusion Matrix:\")\n",
    "print(test_confusion_matrix)"
   ],
   "outputs": [
    {
     "name": "stdout",
     "output_type": "stream",
     "text": [
      "Test Accuracy: 0.3750\n",
      "Test Precision: 0.4062\n",
      "Test Recall: 0.3750\n",
      "Test F1 Score: 0.3849\n",
      "Confusion Matrix:\n",
      "[[2 3]\n",
      " [2 1]]\n"
     ]
    }
   ],
   "execution_count": 50
  },
  {
   "metadata": {},
   "cell_type": "markdown",
   "source": [
    "no modelo acima acuracia teve um desenpenho de 37%\n",
    "ja a precisao teve um teve 40% para preve a classe positiva\n",
    "recall teve 37,50% dos positivos verdadeiros\n",
    "ja a confusion matrix mostra a distribuicao das previsoes corretas e incorretas\n",
    "\n",
    "modelo teve um desenpenho relativamente baixo especialmente em termos de accuracy"
   ]
  },
  {
   "metadata": {
    "ExecuteTime": {
     "end_time": "2025-01-22T23:48:54.004871Z",
     "start_time": "2025-01-22T23:48:54.003521Z"
    }
   },
   "cell_type": "code",
   "source": "",
   "outputs": [],
   "execution_count": null
  },
  {
   "metadata": {
    "ExecuteTime": {
     "end_time": "2025-01-22T23:24:25.385026Z",
     "start_time": "2025-01-22T23:24:25.296182Z"
    }
   },
   "cell_type": "code",
   "source": [
    "# Assuming X_train, y_train, X_test_reduced, and y_test are already defined\n",
    "\n",
    "# Step 1: Define and train melhor_arvore (or any model you are using)\n",
    "melhor_arvore = DecisionTreeClassifier(random_state=42)  # Initialize the model\n",
    "melhor_arvore.fit(X_train, y_train)  # Train the model with training data\n",
    "\n",
    "# Step 2: Compute the score and use it as intended\n",
    "acuraria_test = melhor_arvore.score(X_test_reduced, y_test)  # Get model score\n",
    "print(acuraria_test)\n",
    "\n",
    "# Step 3 (optional): Example for plotting confusion matrix\n",
    "from sklearn.metrics import ConfusionMatrixDisplay\n",
    "\n",
    "ConfusionMatrixDisplay.from_estimator(melhor_arvore, X_test_reduced, y_test)\n"
   ],
   "outputs": [
    {
     "name": "stdout",
     "output_type": "stream",
     "text": [
      "0.375\n"
     ]
    },
    {
     "data": {
      "text/plain": [
       "<sklearn.metrics._plot.confusion_matrix.ConfusionMatrixDisplay at 0x79f031f84320>"
      ]
     },
     "execution_count": 55,
     "metadata": {},
     "output_type": "execute_result"
    },
    {
     "data": {
      "text/plain": [
       "<Figure size 640x480 with 2 Axes>"
      ],
      "image/png": "[encoded data removed]"
     },
     "metadata": {},
     "output_type": "display_data"
    }
   ],
   "execution_count": 55
  },
  {
   "metadata": {},
   "cell_type": "markdown",
   "source": [
    "a matriz de confusao gerada pelo codigo apresenta as seguintes informacoes\n",
    "Eixos: O eixo x representa as classes previstas pelo modelo, e o eixo y\n",
    "representa as classes verdadeiras (ou seja, as classes corretas).\n",
    "Cores: As cores representam a quantidade de exemplos em cada célula.\n",
    "Quanto mais escuro o tom, maior a quantidade de exemplos."
   ]
  }
 ],
 "metadata": {
  "kernelspec": {
   "display_name": "Python 3 (ipykernel)",
   "language": "python",
   "name": "python3"
  },
  "language_info": {
   "codemirror_mode": {
    "name": "ipython",
    "version": 3
   },
   "file_extension": ".py",
   "mimetype": "text/x-python",
   "name": "python",
   "nbconvert_exporter": "python",
   "pygments_lexer": "ipython3",
   "version": "3.12.7"
  }
 },
 "nbformat": 4,
 "nbformat_minor": 4
}
